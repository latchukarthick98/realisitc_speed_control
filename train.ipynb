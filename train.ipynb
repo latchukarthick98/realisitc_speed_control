{
 "cells": [
  {
   "cell_type": "code",
   "execution_count": null,
   "id": "b9d99ddc-fd79-49b5-8661-b40e82da0791",
   "metadata": {},
   "outputs": [],
   "source": [
    "%%capture capt\n",
    "# print(\"hello\")\n",
    "# ! export SUMO_HOME=\n",
    "# %env SUMO_HOME=\n",
    "# %run rl/pytorch/main.py --env_id=sumo --save_id=16 -lr=1e-4\n",
    "! python3 main.py --env-name sumo --alpha 0.2 --save-id 12 --cuda --automatic_entropy_tuning True > logs.txt"
   ]
  },
  {
   "cell_type": "code",
   "execution_count": 9,
   "id": "00fcb128-1943-4f23-8799-d3ac414e6177",
   "metadata": {},
   "outputs": [
    {
     "name": "stdout",
     "output_type": "stream",
     "text": [
      "^C\n",
      "Traceback (most recent call last):\n",
      "  File \"/home/ramkumar/projects/thesis/Exp5/main.py\", line 133, in <module>\n",
      "    critic_1_loss, critic_2_loss, policy_loss, ent_loss, alpha = agent.update_parameters(memory, args.batch_size, updates)\n",
      "  File \"/home/ramkumar/projects/thesis/Exp5/sac.py\", line 76, in update_parameters\n",
      "    pi, log_pi, _ = self.policy.sample(state_batch)\n",
      "  File \"/home/ramkumar/projects/thesis/Exp5/model.py\", line 98, in sample\n",
      "    x_t = normal.rsample()  # for reparameterization trick (mean + std * N(0,1))\n",
      "  File \"/home/ramkumar/miniconda3/envs/simulation/lib/python3.10/site-packages/torch/distributions/normal.py\", line 75, in rsample\n",
      "    return self.loc + eps * self.scale\n",
      "  File \"/home/ramkumar/miniconda3/envs/simulation/lib/python3.10/site-packages/torch/fx/traceback.py\", line 57, in format_stack\n",
      "    return traceback.format_stack()\n",
      "  File \"/home/ramkumar/miniconda3/envs/simulation/lib/python3.10/traceback.py\", line 213, in format_stack\n",
      "    return format_list(extract_stack(f, limit=limit))\n",
      "  File \"/home/ramkumar/miniconda3/envs/simulation/lib/python3.10/traceback.py\", line 227, in extract_stack\n",
      "    stack = StackSummary.extract(walk_stack(f), limit=limit)\n",
      "  File \"/home/ramkumar/miniconda3/envs/simulation/lib/python3.10/traceback.py\", line 369, in extract\n",
      "    fnames.add(filename)\n",
      "KeyboardInterrupt\n"
     ]
    }
   ],
   "source": [
    "capt.show()"
   ]
  }
 ],
 "metadata": {
  "kernelspec": {
   "display_name": "Python 3 (ipykernel)",
   "language": "python",
   "name": "python3"
  },
  "language_info": {
   "codemirror_mode": {
    "name": "ipython",
    "version": 3
   },
   "file_extension": ".py",
   "mimetype": "text/x-python",
   "name": "python",
   "nbconvert_exporter": "python",
   "pygments_lexer": "ipython3",
   "version": "3.10.6"
  }
 },
 "nbformat": 4,
 "nbformat_minor": 5
}
